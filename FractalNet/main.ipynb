{
 "cells": [
  {
   "cell_type": "markdown",
   "metadata": {},
   "source": [
    "This is implementation of [FractalNet](http://arxiv.org/abs/1605.07648) paper"
   ]
  },
  {
   "cell_type": "code",
   "execution_count": 56,
   "metadata": {
    "ExecuteTime": {
     "end_time": "2016-06-03T01:16:03.153409",
     "start_time": "2016-06-03T01:16:03.144659"
    },
    "collapsed": false
   },
   "outputs": [],
   "source": [
    "%load_ext pep8_magic"
   ]
  },
  {
   "cell_type": "code",
   "execution_count": 79,
   "metadata": {
    "ExecuteTime": {
     "end_time": "2016-06-03T01:34:59.635139",
     "start_time": "2016-06-03T01:34:58.893428"
    },
    "collapsed": false,
    "run_control": {
     "frozen": false,
     "read_only": false
    }
   },
   "outputs": [],
   "source": [
    "#!/usr/bin/env python\n",
    "\n",
    "import numpy as np\n",
    "import tensorflow as tf\n",
    "import tflearn\n",
    "from scipy import stats\n",
    "import tflearn.layers.normalization.batch_normalization as BN\n",
    "\n",
    "    \n",
    "class FractalNet():\n",
    "    def __init__(self, input, n, f_height = 3, f_width = 3):\n",
    "        _, _, _, c = input.get_shape()\n",
    "        f_channels = int(c)\n",
    "        self.n = n \n",
    "        self.children = []\n",
    "        with tf.name_scope(\"F%d\" % n) as scope:\n",
    "            # Convolutional layer filter\n",
    "            self.filter = tf.Variable(tf.truncated_normal(\n",
    "                [f_height, f_width, f_channels, f_channels], stddev=0.35),\n",
    "                name=\"filter\")\n",
    "\n",
    "            self.__tensors = [\n",
    "                tf.nn.relu_layer() BN(tf.nn.conv2d(input, self.filter, [1,1,1,1], 'SAME'))\n",
    "            ]\n",
    "            if n > 1:\n",
    "                Fp = FractalNet(input, n - 1, f_height, f_width)\n",
    "                self.children.append(Fp)\n",
    "                Fp = FractalNet(Fp.get_tensor(), n - 1, f_height, f_width)\n",
    "                self.children.append(Fp)\n",
    "                self.__tensors.extend(Fp.__tensors)\n",
    "            \n",
    "            with tf.name_scope(\"join\"):\n",
    "                # activations in join layer \n",
    "                # for mean join layer they should be equal and sum to 1\n",
    "                self.is_active = [\n",
    "                    tf.Variable(1.0/n, trainable=False, name=\"a%d\"%i)\n",
    "                    for i in range(n)\n",
    "                ]\n",
    "            \n",
    "                self.__tensor = tf.add_n(\n",
    "                    [tf.mul(m, x) for m, x in zip(self.is_active, self.__tensors)], \n",
    "                    name=\"Average_pool_join\"\n",
    "                )\n",
    "\n",
    "    def get_tensor(self):\n",
    "        return self.__tensor\n",
    "\n",
    "    def genAssignJoinValues(self, values):\n",
    "        s = np.sum(values)\n",
    "        return tf.group(*[\n",
    "            var.assign(val)\n",
    "            for val, var in zip(values/s, self.is_active)\n",
    "        ])\n",
    "\n",
    "    def genColumn(self, column):\n",
    "        assert 0 <= column < self.n\n",
    "\n",
    "        values = np.zeros(len(self.is_active))\n",
    "        values[column] = 1\n",
    "        \n",
    "        return tf.group(\n",
    "            self.genAssignJoinValues(values),\n",
    "            *[fp.genColumn(column - 1) for fp in self.children if column > 0]\n",
    "        )\n",
    "\n",
    "    def genRandomColumn(self):\n",
    "        return self.genColumn(np.random.randint(self.n))\n",
    "        \n",
    "    \n",
    "    def genLocalDropPath(self, dropout_prob):\n",
    "        values = np.zeros(self.n)\n",
    "        while np.sum(values) < 0.5:\n",
    "            values = (np.random.random(self.n) > dropout_prob).astype(np.float32)\n",
    "        return tf.group(\n",
    "            self.genAssignJoinValues(values),\n",
    "            *[fp.genLocalDropPath(dropout_prob) for fp in self.children]\n",
    "        )\n",
    "    \n",
    "    def genTestMode(self):\n",
    "        \"\"\"\n",
    "            Kills any droppaths set\n",
    "        \"\"\"\n",
    "        return self.genAssignJoinValues(np.ones(self.n))\n",
    "\n",
    "height, width, channels = 28, 28, 1\n",
    "noClasses = 10\n",
    "    \n",
    "g = tf.Graph()\n",
    "\n",
    "with g.as_default():\n",
    "    X = tf.placeholder(tf.float32, [None, height, width, channels], name=\"input\")\n",
    "    Y = tf.placeholder(tf.float32, [None, noClasses], name=\"labels\")\n",
    "    \n",
    "    F = FractalNet(X, 3)\n",
    "    \n",
    "    net = F.get_tensor()\n",
    "    net = tflearn.fully_connected(net, noClasses)\n",
    "    yp = tf.nn.softmax(net)\n",
    "    loss = tf.nn.softmax_cross_entropy_with_logits(net, Y)\n",
    "    \n",
    "with tf.Session(graph=g) as sess:\n",
    "    sess.run(tf.initialize_all_variables())\n",
    "    merged = tf.merge_all_summaries()\n",
    "    writer = tf.train.SummaryWriter(\"/tmp/FractalNet\", sess.graph)\n",
    "    sess.run(F.genRandomColumn())\n",
    "    sess.run(F.genLocalDropPath(0.15))"
   ]
  },
  {
   "cell_type": "code",
   "execution_count": 70,
   "metadata": {
    "ExecuteTime": {
     "end_time": "2016-06-03T01:24:02.215128",
     "start_time": "2016-06-03T01:24:02.118461"
    },
    "collapsed": false
   },
   "outputs": [
    {
     "name": "stdout",
     "output_type": "stream",
     "text": [
      "(5, 6)\n",
      "(6,)\n",
      "(5, 6)\n",
      "[[ 5.  5.  5.  5.  5.  5.]\n",
      " [ 5.  5.  5.  5.  5.  5.]\n",
      " [ 5.  5.  5.  5.  5.  5.]\n",
      " [ 5.  5.  5.  5.  5.  5.]\n",
      " [ 5.  5.  5.  5.  5.  5.]]\n",
      "[[  0.   5.  10.  15.  20.  25.]\n",
      " [  0.   5.  10.  15.  20.  25.]\n",
      " [  0.   5.  10.  15.  20.  25.]\n",
      " [  0.   5.  10.  15.  20.  25.]\n",
      " [  0.   5.  10.  15.  20.  25.]]\n",
      "[ 25.  25.  25.  25.  25.]\n"
     ]
    }
   ],
   "source": [
    "\n",
    "x = tf.constant(5.0, shape=[5, 6])\n",
    "print(x.get_shape())\n",
    "w = tf.constant([0.0, 1.0, 2.0, 3.0, 4.0, 5.0])\n",
    "print(w.get_shape())\n",
    "xw = tf.mul(x, w)\n",
    "print(xw.get_shape())\n",
    "max_in_rows = tf.reduce_max(xw, 1)\n",
    "\n",
    "with tf.Session() as sess:\n",
    "    print(sess.run(x))\n",
    "    print (sess.run(xw))\n",
    "    # ==> [[0.0, 5.0, 10.0, 15.0, 20.0, 25.0],\n",
    "    #      [0.0, 5.0, 10.0, 15.0, 20.0, 25.0],\n",
    "    #      [0.0, 5.0, 10.0, 15.0, 20.0, 25.0],\n",
    "    #      [0.0, 5.0, 10.0, 15.0, 20.0, 25.0],\n",
    "    #      [0.0, 5.0, 10.0, 15.0, 20.0, 25.0]]\n",
    "\n",
    "    print (sess.run(max_in_rows))\n",
    "\n",
    "    # ==> [25.0, 25.0, 25.0, 25.0, 25.0]\n"
   ]
  }
 ],
 "metadata": {
  "kernelspec": {
   "display_name": "Python 3",
   "language": "python",
   "name": "python3"
  },
  "language_info": {
   "codemirror_mode": {
    "name": "ipython",
    "version": 3
   },
   "file_extension": ".py",
   "mimetype": "text/x-python",
   "name": "python",
   "nbconvert_exporter": "python",
   "pygments_lexer": "ipython3",
   "version": "3.5.1"
  }
 },
 "nbformat": 4,
 "nbformat_minor": 0
}
