{
 "cells": [
  {
   "cell_type": "code",
   "execution_count": 52,
   "metadata": {
    "collapsed": true
   },
   "outputs": [],
   "source": [
    "from models import *\n",
    "from utilityFunctions import *\n",
    "from pylab import *\n",
    "from sklearn.datasets import fetch_mldata\n",
    "from sklearn import preprocessing\n",
    "%matplotlib inline"
   ]
  },
  {
   "cell_type": "code",
   "execution_count": 5,
   "metadata": {
    "collapsed": false
   },
   "outputs": [
    {
     "data": {
      "text/plain": [
       "((10000, 794), (10000, 784), (10000, 10))"
      ]
     },
     "execution_count": 5,
     "metadata": {},
     "output_type": "execute_result"
    }
   ],
   "source": [
    "mnist = fetch_mldata('MNIST original')\n",
    "\n",
    "mnist.data.shape\n",
    "mnist.target.shape\n",
    "np.unique(mnist.target)\n",
    "n = mnist.data.shape[1]\n",
    "\n",
    "lb = preprocessing.LabelBinarizer()\n",
    "lb.fit(np.arange(10))\n",
    "\n",
    "ds = np.concatenate((mnist.data, lb.transform(mnist.target)), axis = 1)\n",
    "\n",
    "np.random.shuffle(ds)\n",
    "\n",
    "xy_train = ds[:5000]\n",
    "xy_vc = ds[50000:60000]\n",
    "xy_test = ds[60000:]\n",
    "\n",
    "x_cv = xy_vc[:, :n]\n",
    "y_cv = xy_vc[:, n:]\n",
    "xy_vc.shape, x_cv.shape, y_cv.shape"
   ]
  },
  {
   "cell_type": "code",
   "execution_count": 72,
   "metadata": {
    "collapsed": false
   },
   "outputs": [
    {
     "data": {
      "image/png": "[encoded data removed]",
      "text/plain": [
       "<matplotlib.figure.Figure at 0x7fd78f3ff7f0>"
      ]
     },
     "metadata": {},
     "output_type": "display_data"
    },
    {
     "name": "stdout",
     "output_type": "stream",
     "text": [
      "290#: train = 0.531 cv = 0.794 prec 87.830\n"
     ]
    }
   ],
   "source": [
    "from IPython.display import clear_output\n",
    "nn = NN((n, 30, 10), crossEntropy, sigmoid)\n",
    "\n",
    "noE = 300\n",
    "epoh = []\n",
    "c_train = []\n",
    "c_cv = []\n",
    "precision = []\n",
    "\n",
    "def plot():\n",
    "    global epoh, c_train, c_cv, precision\n",
    "    plt.subplot(121)\n",
    "    plt.plot(epoh, c_train, label=\"train\")\n",
    "    plt.plot(epoh, c_cv, label=\"cv\")\n",
    "    plt.title(\"Precision = %.3f%%\" % (precision[-1] * 100))\n",
    "    plt.legend()\n",
    "    plt.subplot(122)\n",
    "    plt.plot(epoh, precision, label = \"precision\")\n",
    "    plt.legend()\n",
    "    plt.show()\n",
    "\n",
    "for i in range(noE):\n",
    "    nn.trainJoinedData(xy_train, n, 50, 0.01)\n",
    "    if i % 10 == 0 or i < 20:\n",
    "        clear_output(True)\n",
    "        epoh.append(i)\n",
    "        c_train.append(nn.avgCost(xy_train[:, :n], xy_train[:, n:]))\n",
    "        c_cv.append(nn.avgCost(x_cv, y_cv))\n",
    "        a_cv = nn.ff(x_cv)\n",
    "        tf = np.argmax(a_cv, axis = 1) == np.argmax(y_cv, axis = 1)\n",
    "        precision.append(np.sum(tf) / len(tf))\n",
    "        plot()\n",
    "        print (\"{0:2d}#: train = {1:.3f} cv = {2:.3f} prec {3:.3f}\".format(i, c_train[-1], c_cv[-1], 100 * precision[-1]))\n"
   ]
  }
 ],
 "metadata": {
  "kernelspec": {
   "display_name": "Python 3",
   "language": "python",
   "name": "python3"
  },
  "language_info": {
   "codemirror_mode": {
    "name": "ipython",
    "version": 3
   },
   "file_extension": ".py",
   "mimetype": "text/x-python",
   "name": "python",
   "nbconvert_exporter": "python",
   "pygments_lexer": "ipython3",
   "version": "3.5.1"
  }
 },
 "nbformat": 4,
 "nbformat_minor": 0
}
